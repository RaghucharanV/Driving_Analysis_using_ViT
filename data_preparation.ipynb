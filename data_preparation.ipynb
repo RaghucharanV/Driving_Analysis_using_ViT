{
 "cells": [
  {
   "cell_type": "code",
   "execution_count": 1,
   "metadata": {},
   "outputs": [],
   "source": [
    "import os\n",
    "import pandas as pd"
   ]
  },
  {
   "cell_type": "code",
   "execution_count": 3,
   "metadata": {},
   "outputs": [],
   "source": [
    "df = pd.read_csv('driver_imgs_list(main).csv')"
   ]
  },
  {
   "cell_type": "code",
   "execution_count": 4,
   "metadata": {},
   "outputs": [
    {
     "data": {
      "text/plain": [
       "<Axes: xlabel='subject'>"
      ]
     },
     "execution_count": 4,
     "metadata": {},
     "output_type": "execute_result"
    },
    {
     "data": {
      "image/png": "[encoded data removed]",
      "text/plain": [
       "<Figure size 640x480 with 1 Axes>"
      ]
     },
     "metadata": {},
     "output_type": "display_data"
    }
   ],
   "source": [
    "df['subject'].sort_values(ascending=True).value_counts().plot(kind='bar')"
   ]
  },
  {
   "cell_type": "code",
   "execution_count": 5,
   "metadata": {},
   "outputs": [],
   "source": [
    "imgs_set = df[df['subject']=='p072']"
   ]
  },
  {
   "cell_type": "code",
   "execution_count": 6,
   "metadata": {},
   "outputs": [],
   "source": [
    "import matplotlib.pyplot as plt"
   ]
  },
  {
   "cell_type": "code",
   "execution_count": 7,
   "metadata": {},
   "outputs": [],
   "source": [
    "from PIL import Image"
   ]
  },
  {
   "cell_type": "code",
   "execution_count": 8,
   "metadata": {},
   "outputs": [
    {
     "data": {
      "text/html": [
       "<div>\n",
       "<style scoped>\n",
       "    .dataframe tbody tr th:only-of-type {\n",
       "        vertical-align: middle;\n",
       "    }\n",
       "\n",
       "    .dataframe tbody tr th {\n",
       "        vertical-align: top;\n",
       "    }\n",
       "\n",
       "    .dataframe thead th {\n",
       "        text-align: right;\n",
       "    }\n",
       "</style>\n",
       "<table border=\"1\" class=\"dataframe\">\n",
       "  <thead>\n",
       "    <tr style=\"text-align: right;\">\n",
       "      <th></th>\n",
       "      <th>Unnamed: 0</th>\n",
       "      <th>subject</th>\n",
       "      <th>classname_x</th>\n",
       "      <th>img</th>\n",
       "    </tr>\n",
       "  </thead>\n",
       "  <tbody>\n",
       "    <tr>\n",
       "      <th>2299</th>\n",
       "      <td>2299</td>\n",
       "      <td>p072</td>\n",
       "      <td>c0</td>\n",
       "      <td>img_13121.jpg</td>\n",
       "    </tr>\n",
       "    <tr>\n",
       "      <th>2300</th>\n",
       "      <td>2300</td>\n",
       "      <td>p072</td>\n",
       "      <td>c0</td>\n",
       "      <td>img_1053.jpg</td>\n",
       "    </tr>\n",
       "    <tr>\n",
       "      <th>2301</th>\n",
       "      <td>2301</td>\n",
       "      <td>p072</td>\n",
       "      <td>c0</td>\n",
       "      <td>img_90764.jpg</td>\n",
       "    </tr>\n",
       "    <tr>\n",
       "      <th>2302</th>\n",
       "      <td>2302</td>\n",
       "      <td>p072</td>\n",
       "      <td>c0</td>\n",
       "      <td>img_1215.jpg</td>\n",
       "    </tr>\n",
       "    <tr>\n",
       "      <th>2303</th>\n",
       "      <td>2303</td>\n",
       "      <td>p072</td>\n",
       "      <td>c1</td>\n",
       "      <td>img_80042.jpg</td>\n",
       "    </tr>\n",
       "    <tr>\n",
       "      <th>2304</th>\n",
       "      <td>2304</td>\n",
       "      <td>p072</td>\n",
       "      <td>c1</td>\n",
       "      <td>img_18635.jpg</td>\n",
       "    </tr>\n",
       "    <tr>\n",
       "      <th>2305</th>\n",
       "      <td>2305</td>\n",
       "      <td>p072</td>\n",
       "      <td>c1</td>\n",
       "      <td>img_14184.jpg</td>\n",
       "    </tr>\n",
       "    <tr>\n",
       "      <th>2306</th>\n",
       "      <td>2306</td>\n",
       "      <td>p072</td>\n",
       "      <td>c1</td>\n",
       "      <td>img_36758.jpg</td>\n",
       "    </tr>\n",
       "    <tr>\n",
       "      <th>2307</th>\n",
       "      <td>2307</td>\n",
       "      <td>p072</td>\n",
       "      <td>c1</td>\n",
       "      <td>img_38125.jpg</td>\n",
       "    </tr>\n",
       "    <tr>\n",
       "      <th>2308</th>\n",
       "      <td>2308</td>\n",
       "      <td>p072</td>\n",
       "      <td>c1</td>\n",
       "      <td>img_6915.jpg</td>\n",
       "    </tr>\n",
       "    <tr>\n",
       "      <th>2309</th>\n",
       "      <td>2309</td>\n",
       "      <td>p072</td>\n",
       "      <td>c1</td>\n",
       "      <td>img_73776.jpg</td>\n",
       "    </tr>\n",
       "    <tr>\n",
       "      <th>2310</th>\n",
       "      <td>2310</td>\n",
       "      <td>p072</td>\n",
       "      <td>c1</td>\n",
       "      <td>img_42677.jpg</td>\n",
       "    </tr>\n",
       "    <tr>\n",
       "      <th>2311</th>\n",
       "      <td>2311</td>\n",
       "      <td>p072</td>\n",
       "      <td>c1</td>\n",
       "      <td>img_66726.jpg</td>\n",
       "    </tr>\n",
       "    <tr>\n",
       "      <th>2312</th>\n",
       "      <td>2312</td>\n",
       "      <td>p072</td>\n",
       "      <td>c1</td>\n",
       "      <td>img_57348.jpg</td>\n",
       "    </tr>\n",
       "    <tr>\n",
       "      <th>2313</th>\n",
       "      <td>2313</td>\n",
       "      <td>p072</td>\n",
       "      <td>c1</td>\n",
       "      <td>img_20257.jpg</td>\n",
       "    </tr>\n",
       "    <tr>\n",
       "      <th>2314</th>\n",
       "      <td>2314</td>\n",
       "      <td>p072</td>\n",
       "      <td>c1</td>\n",
       "      <td>img_11385.jpg</td>\n",
       "    </tr>\n",
       "    <tr>\n",
       "      <th>2315</th>\n",
       "      <td>2315</td>\n",
       "      <td>p072</td>\n",
       "      <td>c2</td>\n",
       "      <td>img_70244.jpg</td>\n",
       "    </tr>\n",
       "    <tr>\n",
       "      <th>2316</th>\n",
       "      <td>2316</td>\n",
       "      <td>p072</td>\n",
       "      <td>c2</td>\n",
       "      <td>img_34409.jpg</td>\n",
       "    </tr>\n",
       "    <tr>\n",
       "      <th>2317</th>\n",
       "      <td>2317</td>\n",
       "      <td>p072</td>\n",
       "      <td>c4</td>\n",
       "      <td>img_43984.jpg</td>\n",
       "    </tr>\n",
       "    <tr>\n",
       "      <th>2318</th>\n",
       "      <td>2318</td>\n",
       "      <td>p072</td>\n",
       "      <td>c4</td>\n",
       "      <td>img_22096.jpg</td>\n",
       "    </tr>\n",
       "    <tr>\n",
       "      <th>2319</th>\n",
       "      <td>2319</td>\n",
       "      <td>p072</td>\n",
       "      <td>c4</td>\n",
       "      <td>img_2669.jpg</td>\n",
       "    </tr>\n",
       "    <tr>\n",
       "      <th>2320</th>\n",
       "      <td>2320</td>\n",
       "      <td>p072</td>\n",
       "      <td>c6</td>\n",
       "      <td>img_80044.jpg</td>\n",
       "    </tr>\n",
       "    <tr>\n",
       "      <th>2321</th>\n",
       "      <td>2321</td>\n",
       "      <td>p072</td>\n",
       "      <td>c6</td>\n",
       "      <td>img_69928.jpg</td>\n",
       "    </tr>\n",
       "    <tr>\n",
       "      <th>2322</th>\n",
       "      <td>2322</td>\n",
       "      <td>p072</td>\n",
       "      <td>c6</td>\n",
       "      <td>img_89919.jpg</td>\n",
       "    </tr>\n",
       "    <tr>\n",
       "      <th>2323</th>\n",
       "      <td>2323</td>\n",
       "      <td>p072</td>\n",
       "      <td>c6</td>\n",
       "      <td>img_92298.jpg</td>\n",
       "    </tr>\n",
       "    <tr>\n",
       "      <th>2324</th>\n",
       "      <td>2324</td>\n",
       "      <td>p072</td>\n",
       "      <td>c8</td>\n",
       "      <td>img_87982.jpg</td>\n",
       "    </tr>\n",
       "    <tr>\n",
       "      <th>2325</th>\n",
       "      <td>2325</td>\n",
       "      <td>p072</td>\n",
       "      <td>c8</td>\n",
       "      <td>img_56518.jpg</td>\n",
       "    </tr>\n",
       "    <tr>\n",
       "      <th>2326</th>\n",
       "      <td>2326</td>\n",
       "      <td>p072</td>\n",
       "      <td>c8</td>\n",
       "      <td>img_51286.jpg</td>\n",
       "    </tr>\n",
       "    <tr>\n",
       "      <th>2327</th>\n",
       "      <td>2327</td>\n",
       "      <td>p072</td>\n",
       "      <td>c9</td>\n",
       "      <td>img_65892.jpg</td>\n",
       "    </tr>\n",
       "    <tr>\n",
       "      <th>2328</th>\n",
       "      <td>2328</td>\n",
       "      <td>p072</td>\n",
       "      <td>c9</td>\n",
       "      <td>img_81724.jpg</td>\n",
       "    </tr>\n",
       "    <tr>\n",
       "      <th>2329</th>\n",
       "      <td>2329</td>\n",
       "      <td>p072</td>\n",
       "      <td>c9</td>\n",
       "      <td>img_100589.jpg</td>\n",
       "    </tr>\n",
       "    <tr>\n",
       "      <th>2330</th>\n",
       "      <td>2330</td>\n",
       "      <td>p072</td>\n",
       "      <td>c9</td>\n",
       "      <td>img_47621.jpg</td>\n",
       "    </tr>\n",
       "  </tbody>\n",
       "</table>\n",
       "</div>"
      ],
      "text/plain": [
       "      Unnamed: 0 subject classname_x             img\n",
       "2299        2299    p072          c0   img_13121.jpg\n",
       "2300        2300    p072          c0    img_1053.jpg\n",
       "2301        2301    p072          c0   img_90764.jpg\n",
       "2302        2302    p072          c0    img_1215.jpg\n",
       "2303        2303    p072          c1   img_80042.jpg\n",
       "2304        2304    p072          c1   img_18635.jpg\n",
       "2305        2305    p072          c1   img_14184.jpg\n",
       "2306        2306    p072          c1   img_36758.jpg\n",
       "2307        2307    p072          c1   img_38125.jpg\n",
       "2308        2308    p072          c1    img_6915.jpg\n",
       "2309        2309    p072          c1   img_73776.jpg\n",
       "2310        2310    p072          c1   img_42677.jpg\n",
       "2311        2311    p072          c1   img_66726.jpg\n",
       "2312        2312    p072          c1   img_57348.jpg\n",
       "2313        2313    p072          c1   img_20257.jpg\n",
       "2314        2314    p072          c1   img_11385.jpg\n",
       "2315        2315    p072          c2   img_70244.jpg\n",
       "2316        2316    p072          c2   img_34409.jpg\n",
       "2317        2317    p072          c4   img_43984.jpg\n",
       "2318        2318    p072          c4   img_22096.jpg\n",
       "2319        2319    p072          c4    img_2669.jpg\n",
       "2320        2320    p072          c6   img_80044.jpg\n",
       "2321        2321    p072          c6   img_69928.jpg\n",
       "2322        2322    p072          c6   img_89919.jpg\n",
       "2323        2323    p072          c6   img_92298.jpg\n",
       "2324        2324    p072          c8   img_87982.jpg\n",
       "2325        2325    p072          c8   img_56518.jpg\n",
       "2326        2326    p072          c8   img_51286.jpg\n",
       "2327        2327    p072          c9   img_65892.jpg\n",
       "2328        2328    p072          c9   img_81724.jpg\n",
       "2329        2329    p072          c9  img_100589.jpg\n",
       "2330        2330    p072          c9   img_47621.jpg"
      ]
     },
     "execution_count": 8,
     "metadata": {},
     "output_type": "execute_result"
    }
   ],
   "source": [
    "imgs_set"
   ]
  },
  {
   "cell_type": "code",
   "execution_count": 74,
   "metadata": {},
   "outputs": [
    {
     "data": {
      "text/plain": [
       "range(0, 10)"
      ]
     },
     "execution_count": 74,
     "metadata": {},
     "output_type": "execute_result"
    }
   ],
   "source": [
    "range(10)"
   ]
  },
  {
   "cell_type": "code",
   "execution_count": null,
   "metadata": {},
   "outputs": [],
   "source": []
  },
  {
   "cell_type": "code",
   "execution_count": 10,
   "metadata": {},
   "outputs": [],
   "source": [
    "labels = {'classname':['c0','c1','c2','c3','c4','c5','c6','c7','c8','c9'],'labels': ['safe driving','texting - right', 'talking on the phone - right','texting - left','talking on the phone - left', 'operating the radio','drinking',\n",
    "'reaching behind',\n",
    " 'hair and makeup',\n",
    "'talking to passenger']}\n",
    "labels_df = pd.DataFrame(labels)"
   ]
  },
  {
   "cell_type": "code",
   "execution_count": 11,
   "metadata": {},
   "outputs": [
    {
     "data": {
      "text/html": [
       "<div>\n",
       "<style scoped>\n",
       "    .dataframe tbody tr th:only-of-type {\n",
       "        vertical-align: middle;\n",
       "    }\n",
       "\n",
       "    .dataframe tbody tr th {\n",
       "        vertical-align: top;\n",
       "    }\n",
       "\n",
       "    .dataframe thead th {\n",
       "        text-align: right;\n",
       "    }\n",
       "</style>\n",
       "<table border=\"1\" class=\"dataframe\">\n",
       "  <thead>\n",
       "    <tr style=\"text-align: right;\">\n",
       "      <th></th>\n",
       "      <th>classname</th>\n",
       "      <th>labels</th>\n",
       "    </tr>\n",
       "  </thead>\n",
       "  <tbody>\n",
       "    <tr>\n",
       "      <th>0</th>\n",
       "      <td>c0</td>\n",
       "      <td>safe driving</td>\n",
       "    </tr>\n",
       "    <tr>\n",
       "      <th>1</th>\n",
       "      <td>c1</td>\n",
       "      <td>texting - right</td>\n",
       "    </tr>\n",
       "    <tr>\n",
       "      <th>2</th>\n",
       "      <td>c2</td>\n",
       "      <td>talking on the phone - right</td>\n",
       "    </tr>\n",
       "    <tr>\n",
       "      <th>3</th>\n",
       "      <td>c3</td>\n",
       "      <td>texting - left</td>\n",
       "    </tr>\n",
       "    <tr>\n",
       "      <th>4</th>\n",
       "      <td>c4</td>\n",
       "      <td>talking on the phone - left</td>\n",
       "    </tr>\n",
       "    <tr>\n",
       "      <th>5</th>\n",
       "      <td>c5</td>\n",
       "      <td>operating the radio</td>\n",
       "    </tr>\n",
       "    <tr>\n",
       "      <th>6</th>\n",
       "      <td>c6</td>\n",
       "      <td>drinking</td>\n",
       "    </tr>\n",
       "    <tr>\n",
       "      <th>7</th>\n",
       "      <td>c7</td>\n",
       "      <td>reaching behind</td>\n",
       "    </tr>\n",
       "    <tr>\n",
       "      <th>8</th>\n",
       "      <td>c8</td>\n",
       "      <td>hair and makeup</td>\n",
       "    </tr>\n",
       "    <tr>\n",
       "      <th>9</th>\n",
       "      <td>c9</td>\n",
       "      <td>talking to passenger</td>\n",
       "    </tr>\n",
       "  </tbody>\n",
       "</table>\n",
       "</div>"
      ],
      "text/plain": [
       "  classname                        labels\n",
       "0        c0                  safe driving\n",
       "1        c1               texting - right\n",
       "2        c2  talking on the phone - right\n",
       "3        c3                texting - left\n",
       "4        c4   talking on the phone - left\n",
       "5        c5           operating the radio\n",
       "6        c6                      drinking\n",
       "7        c7               reaching behind\n",
       "8        c8               hair and makeup\n",
       "9        c9          talking to passenger"
      ]
     },
     "execution_count": 11,
     "metadata": {},
     "output_type": "execute_result"
    }
   ],
   "source": [
    "labels_df"
   ]
  },
  {
   "cell_type": "code",
   "execution_count": null,
   "metadata": {},
   "outputs": [],
   "source": []
  },
  {
   "cell_type": "code",
   "execution_count": 13,
   "metadata": {},
   "outputs": [],
   "source": [
    "import shutil\n",
    "import random"
   ]
  },
  {
   "cell_type": "code",
   "execution_count": 14,
   "metadata": {},
   "outputs": [],
   "source": [
    "source = 'imgs/train/'\n",
    "destination = 'images/train/'\n",
    "num = 250\n",
    "random.seed(42)"
   ]
  },
  {
   "cell_type": "code",
   "execution_count": 94,
   "metadata": {},
   "outputs": [],
   "source": [
    "for folder_name in os.listdir(source):\n",
    "    folder_path = os.path.join(source,folder_name)\n",
    "    \n",
    "    if os.path.isdir(folder_path):\n",
    "        dest_folder_path = os.path.join(destination,folder_name)\n",
    "        os.makedirs(dest_folder_path,exist_ok=True)\n",
    "\n",
    "        img_files = [f for f in os.listdir(folder_path)]\n",
    "\n",
    "        random.shuffle(img_files)\n",
    "\n",
    "        selected_images = img_files[:num]\n",
    "\n",
    "        for image in selected_images:\n",
    "            source_path = os.path.join(folder_path,image)\n",
    "            dest_path = os.path.join(dest_folder_path,image)\n",
    "            shutil.copy2(source_path, dest_path)\n"
   ]
  },
  {
   "cell_type": "code",
   "execution_count": 18,
   "metadata": {},
   "outputs": [
    {
     "data": {
      "text/html": [
       "<div>\n",
       "<style scoped>\n",
       "    .dataframe tbody tr th:only-of-type {\n",
       "        vertical-align: middle;\n",
       "    }\n",
       "\n",
       "    .dataframe tbody tr th {\n",
       "        vertical-align: top;\n",
       "    }\n",
       "\n",
       "    .dataframe thead th {\n",
       "        text-align: right;\n",
       "    }\n",
       "</style>\n",
       "<table border=\"1\" class=\"dataframe\">\n",
       "  <thead>\n",
       "    <tr style=\"text-align: right;\">\n",
       "      <th></th>\n",
       "      <th>subject</th>\n",
       "      <th>classname_x</th>\n",
       "      <th>img</th>\n",
       "    </tr>\n",
       "  </thead>\n",
       "  <tbody>\n",
       "    <tr>\n",
       "      <th>0</th>\n",
       "      <td>p002</td>\n",
       "      <td>c0</td>\n",
       "      <td>img_69092.jpg</td>\n",
       "    </tr>\n",
       "    <tr>\n",
       "      <th>1</th>\n",
       "      <td>p002</td>\n",
       "      <td>c0</td>\n",
       "      <td>img_92629.jpg</td>\n",
       "    </tr>\n",
       "    <tr>\n",
       "      <th>2</th>\n",
       "      <td>p002</td>\n",
       "      <td>c0</td>\n",
       "      <td>img_3370.jpg</td>\n",
       "    </tr>\n",
       "    <tr>\n",
       "      <th>3</th>\n",
       "      <td>p002</td>\n",
       "      <td>c0</td>\n",
       "      <td>img_35779.jpg</td>\n",
       "    </tr>\n",
       "    <tr>\n",
       "      <th>4</th>\n",
       "      <td>p002</td>\n",
       "      <td>c0</td>\n",
       "      <td>img_10012.jpg</td>\n",
       "    </tr>\n",
       "    <tr>\n",
       "      <th>...</th>\n",
       "      <td>...</td>\n",
       "      <td>...</td>\n",
       "      <td>...</td>\n",
       "    </tr>\n",
       "    <tr>\n",
       "      <th>2495</th>\n",
       "      <td>p081</td>\n",
       "      <td>c9</td>\n",
       "      <td>img_20671.jpg</td>\n",
       "    </tr>\n",
       "    <tr>\n",
       "      <th>2496</th>\n",
       "      <td>p081</td>\n",
       "      <td>c9</td>\n",
       "      <td>img_49316.jpg</td>\n",
       "    </tr>\n",
       "    <tr>\n",
       "      <th>2497</th>\n",
       "      <td>p081</td>\n",
       "      <td>c9</td>\n",
       "      <td>img_4162.jpg</td>\n",
       "    </tr>\n",
       "    <tr>\n",
       "      <th>2498</th>\n",
       "      <td>p081</td>\n",
       "      <td>c9</td>\n",
       "      <td>img_23818.jpg</td>\n",
       "    </tr>\n",
       "    <tr>\n",
       "      <th>2499</th>\n",
       "      <td>p081</td>\n",
       "      <td>c9</td>\n",
       "      <td>img_25946.jpg</td>\n",
       "    </tr>\n",
       "  </tbody>\n",
       "</table>\n",
       "<p>2500 rows × 3 columns</p>\n",
       "</div>"
      ],
      "text/plain": [
       "     subject classname_x            img\n",
       "0       p002          c0  img_69092.jpg\n",
       "1       p002          c0  img_92629.jpg\n",
       "2       p002          c0   img_3370.jpg\n",
       "3       p002          c0  img_35779.jpg\n",
       "4       p002          c0  img_10012.jpg\n",
       "...      ...         ...            ...\n",
       "2495    p081          c9  img_20671.jpg\n",
       "2496    p081          c9  img_49316.jpg\n",
       "2497    p081          c9   img_4162.jpg\n",
       "2498    p081          c9  img_23818.jpg\n",
       "2499    p081          c9  img_25946.jpg\n",
       "\n",
       "[2500 rows x 3 columns]"
      ]
     },
     "execution_count": 18,
     "metadata": {},
     "output_type": "execute_result"
    }
   ],
   "source": [
    "df.drop(['Unnamed: 0'],axis=1)"
   ]
  },
  {
   "cell_type": "code",
   "execution_count": 21,
   "metadata": {},
   "outputs": [
    {
     "data": {
      "text/plain": [
       "<Axes: ylabel='subject'>"
      ]
     },
     "execution_count": 21,
     "metadata": {},
     "output_type": "execute_result"
    },
    {
     "data": {
      "image/png": "[encoded data removed]",
      "text/plain": [
       "<Figure size 640x480 with 1 Axes>"
      ]
     },
     "metadata": {},
     "output_type": "display_data"
    }
   ],
   "source": [
    "df['subject'].value_counts().plot(kind='barh')"
   ]
  },
  {
   "cell_type": "code",
   "execution_count": 97,
   "metadata": {},
   "outputs": [],
   "source": [
    "import glob"
   ]
  },
  {
   "cell_type": "code",
   "execution_count": 111,
   "metadata": {},
   "outputs": [],
   "source": [
    "images = []\n",
    "for i in range(250*8):\n",
    "    dir = 'images/train/c'\n",
    "    ext= '/*.jpg'\n",
    "    image = glob.glob(dir+str(i)+ext)\n",
    "    images.append(image)\n"
   ]
  },
  {
   "cell_type": "code",
   "execution_count": 117,
   "metadata": {},
   "outputs": [
    {
     "name": "stdout",
     "output_type": "stream",
     "text": [
      "\n",
      "\n",
      "\n",
      "\n",
      "\n",
      "\n",
      "\n",
      "\n",
      "\n",
      "\n",
      "\n",
      "\n",
      "\n",
      "\n",
      "\n",
      "\n",
      "\n",
      "\n",
      "\n",
      "\n"
     ]
    }
   ],
   "source": [
    "import os\n",
    "import glob\n",
    "\n",
    "# Source directory containing 9 folders\n",
    "source_directory = 'images/train/'\n",
    "\n",
    "# Function to list all image files in a directory with a specific extension\n",
    "def list_images(directory, extension='jpg'):\n",
    "    pattern = os.path.join(directory, f\"*.{extension}\")\n",
    "    image_files = glob.glob(pattern)\n",
    "    return image_files\n",
    "images1 = []\n",
    "# Iterate through the 9 folders\n",
    "for folder_name in os.listdir(source_directory):\n",
    "    folder_path = os.path.join(source_directory, folder_name)\n",
    "\n",
    "    # Ensure it is a directory\n",
    "    if os.path.isdir(folder_path):\n",
    "\n",
    "        # Get a list of image files in the folder with *.jpg extension\n",
    "        image_files = list_images(folder_path, extension='jpg')\n",
    "\n",
    "        # Print the list of image files\n",
    "        for image in image_files:\n",
    "            images1.append(image)\n",
    "\n",
    "        print(\"\\n\")  # Add a newline between folders for better readability\n"
   ]
  },
  {
   "cell_type": "code",
   "execution_count": 118,
   "metadata": {},
   "outputs": [
    {
     "data": {
      "text/plain": [
       "2500"
      ]
     },
     "execution_count": 118,
     "metadata": {},
     "output_type": "execute_result"
    }
   ],
   "source": [
    "len(images1)"
   ]
  },
  {
   "cell_type": "code",
   "execution_count": 144,
   "metadata": {},
   "outputs": [
    {
     "data": {
      "text/plain": [
       "'img_100074.jpg'"
      ]
     },
     "execution_count": 144,
     "metadata": {},
     "output_type": "execute_result"
    }
   ],
   "source": [
    "images1[1].split(\"\\\\\")[1]"
   ]
  },
  {
   "cell_type": "code",
   "execution_count": 129,
   "metadata": {},
   "outputs": [],
   "source": [
    "classname = []\n",
    "for i in range(len(images1)):\n",
    "    classname.append(images1[i][13:15])"
   ]
  },
  {
   "cell_type": "code",
   "execution_count": null,
   "metadata": {},
   "outputs": [],
   "source": []
  },
  {
   "cell_type": "code",
   "execution_count": 145,
   "metadata": {},
   "outputs": [],
   "source": [
    "images = []\n",
    "for i in range(len(images1)):\n",
    "    images.append(images1[i].split(\"\\\\\")[1])"
   ]
  },
  {
   "cell_type": "code",
   "execution_count": 152,
   "metadata": {},
   "outputs": [],
   "source": [
    "dic = {\"classname\":classname,\"img\":images}"
   ]
  },
  {
   "cell_type": "code",
   "execution_count": 153,
   "metadata": {},
   "outputs": [],
   "source": [
    "df2 = pd.DataFrame(dic)"
   ]
  },
  {
   "cell_type": "code",
   "execution_count": null,
   "metadata": {},
   "outputs": [],
   "source": []
  },
  {
   "cell_type": "code",
   "execution_count": 155,
   "metadata": {},
   "outputs": [],
   "source": [
    "merge_df = pd.merge(df,df2, on='img', how='inner')"
   ]
  },
  {
   "cell_type": "code",
   "execution_count": 164,
   "metadata": {},
   "outputs": [
    {
     "data": {
      "text/plain": [
       "<Axes: xlabel='subject'>"
      ]
     },
     "execution_count": 164,
     "metadata": {},
     "output_type": "execute_result"
    },
    {
     "data": {
      "image/png": "[encoded data removed]",
      "text/plain": [
       "<Figure size 640x480 with 1 Axes>"
      ]
     },
     "metadata": {},
     "output_type": "display_data"
    }
   ],
   "source": [
    "round((merge_df['subject'].value_counts()/df['subject'].value_counts()) *100,2).plot(kind='bar')"
   ]
  },
  {
   "cell_type": "code",
   "execution_count": 167,
   "metadata": {},
   "outputs": [],
   "source": [
    "merge_df.drop(['classname_y'],axis=1,inplace=True)"
   ]
  },
  {
   "cell_type": "code",
   "execution_count": 169,
   "metadata": {},
   "outputs": [],
   "source": [
    "merge_df.to_csv('driver_imgs_list(main).csv')"
   ]
  },
  {
   "cell_type": "code",
   "execution_count": 22,
   "metadata": {},
   "outputs": [
    {
     "data": {
      "text/html": [
       "<div>\n",
       "<style scoped>\n",
       "    .dataframe tbody tr th:only-of-type {\n",
       "        vertical-align: middle;\n",
       "    }\n",
       "\n",
       "    .dataframe tbody tr th {\n",
       "        vertical-align: top;\n",
       "    }\n",
       "\n",
       "    .dataframe thead th {\n",
       "        text-align: right;\n",
       "    }\n",
       "</style>\n",
       "<table border=\"1\" class=\"dataframe\">\n",
       "  <thead>\n",
       "    <tr style=\"text-align: right;\">\n",
       "      <th></th>\n",
       "      <th>Unnamed: 0</th>\n",
       "      <th>subject</th>\n",
       "      <th>classname_x</th>\n",
       "      <th>img</th>\n",
       "    </tr>\n",
       "  </thead>\n",
       "  <tbody>\n",
       "    <tr>\n",
       "      <th>0</th>\n",
       "      <td>0</td>\n",
       "      <td>p002</td>\n",
       "      <td>c0</td>\n",
       "      <td>img_69092.jpg</td>\n",
       "    </tr>\n",
       "    <tr>\n",
       "      <th>1</th>\n",
       "      <td>1</td>\n",
       "      <td>p002</td>\n",
       "      <td>c0</td>\n",
       "      <td>img_92629.jpg</td>\n",
       "    </tr>\n",
       "    <tr>\n",
       "      <th>2</th>\n",
       "      <td>2</td>\n",
       "      <td>p002</td>\n",
       "      <td>c0</td>\n",
       "      <td>img_3370.jpg</td>\n",
       "    </tr>\n",
       "    <tr>\n",
       "      <th>3</th>\n",
       "      <td>3</td>\n",
       "      <td>p002</td>\n",
       "      <td>c0</td>\n",
       "      <td>img_35779.jpg</td>\n",
       "    </tr>\n",
       "    <tr>\n",
       "      <th>4</th>\n",
       "      <td>4</td>\n",
       "      <td>p002</td>\n",
       "      <td>c0</td>\n",
       "      <td>img_10012.jpg</td>\n",
       "    </tr>\n",
       "    <tr>\n",
       "      <th>...</th>\n",
       "      <td>...</td>\n",
       "      <td>...</td>\n",
       "      <td>...</td>\n",
       "      <td>...</td>\n",
       "    </tr>\n",
       "    <tr>\n",
       "      <th>2495</th>\n",
       "      <td>2495</td>\n",
       "      <td>p081</td>\n",
       "      <td>c9</td>\n",
       "      <td>img_20671.jpg</td>\n",
       "    </tr>\n",
       "    <tr>\n",
       "      <th>2496</th>\n",
       "      <td>2496</td>\n",
       "      <td>p081</td>\n",
       "      <td>c9</td>\n",
       "      <td>img_49316.jpg</td>\n",
       "    </tr>\n",
       "    <tr>\n",
       "      <th>2497</th>\n",
       "      <td>2497</td>\n",
       "      <td>p081</td>\n",
       "      <td>c9</td>\n",
       "      <td>img_4162.jpg</td>\n",
       "    </tr>\n",
       "    <tr>\n",
       "      <th>2498</th>\n",
       "      <td>2498</td>\n",
       "      <td>p081</td>\n",
       "      <td>c9</td>\n",
       "      <td>img_23818.jpg</td>\n",
       "    </tr>\n",
       "    <tr>\n",
       "      <th>2499</th>\n",
       "      <td>2499</td>\n",
       "      <td>p081</td>\n",
       "      <td>c9</td>\n",
       "      <td>img_25946.jpg</td>\n",
       "    </tr>\n",
       "  </tbody>\n",
       "</table>\n",
       "<p>2500 rows × 4 columns</p>\n",
       "</div>"
      ],
      "text/plain": [
       "      Unnamed: 0 subject classname_x            img\n",
       "0              0    p002          c0  img_69092.jpg\n",
       "1              1    p002          c0  img_92629.jpg\n",
       "2              2    p002          c0   img_3370.jpg\n",
       "3              3    p002          c0  img_35779.jpg\n",
       "4              4    p002          c0  img_10012.jpg\n",
       "...          ...     ...         ...            ...\n",
       "2495        2495    p081          c9  img_20671.jpg\n",
       "2496        2496    p081          c9  img_49316.jpg\n",
       "2497        2497    p081          c9   img_4162.jpg\n",
       "2498        2498    p081          c9  img_23818.jpg\n",
       "2499        2499    p081          c9  img_25946.jpg\n",
       "\n",
       "[2500 rows x 4 columns]"
      ]
     },
     "execution_count": 22,
     "metadata": {},
     "output_type": "execute_result"
    }
   ],
   "source": [
    "df"
   ]
  },
  {
   "cell_type": "code",
   "execution_count": 29,
   "metadata": {},
   "outputs": [],
   "source": [
    "labels_df['classname_x'] = labels_df['classname']"
   ]
  },
  {
   "cell_type": "code",
   "execution_count": 31,
   "metadata": {},
   "outputs": [],
   "source": [
    "labels_df.drop(['classname'],axis=1,inplace=True)"
   ]
  },
  {
   "cell_type": "code",
   "execution_count": 25,
   "metadata": {},
   "outputs": [],
   "source": [
    "df.drop(['Unnamed: 0'],axis=1,inplace=True )"
   ]
  },
  {
   "cell_type": "code",
   "execution_count": 33,
   "metadata": {},
   "outputs": [],
   "source": [
    "merge_dataframe = pd.merge(df,labels_df,on='classname_x',how='inner')"
   ]
  },
  {
   "cell_type": "code",
   "execution_count": 35,
   "metadata": {},
   "outputs": [],
   "source": [
    "merge_dataframe.to_csv('driver_images_list.csv')"
   ]
  },
  {
   "cell_type": "code",
   "execution_count": null,
   "metadata": {},
   "outputs": [],
   "source": []
  }
 ],
 "metadata": {
  "kernelspec": {
   "display_name": "tensor",
   "language": "python",
   "name": "python3"
  },
  "language_info": {
   "codemirror_mode": {
    "name": "ipython",
    "version": 3
   },
   "file_extension": ".py",
   "mimetype": "text/x-python",
   "name": "python",
   "nbconvert_exporter": "python",
   "pygments_lexer": "ipython3",
   "version": "3.11.5"
  }
 },
 "nbformat": 4,
 "nbformat_minor": 2
}
